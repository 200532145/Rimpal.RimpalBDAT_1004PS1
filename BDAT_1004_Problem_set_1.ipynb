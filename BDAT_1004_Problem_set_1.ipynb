{
 "cells": [
  {
   "cell_type": "markdown",
   "id": "12428636",
   "metadata": {},
   "source": [
    " #                            ***Assignment 1 - BDAT 1004***\n",
    " ### **************************************************************************************                        \n",
    "\n",
    "## **Problem Set 1**\n",
    "### **********************************\n",
    "\n",
    "### Question1\n",
    "#### What data type is each of the  following (evaluate where necessary)?\n",
    "####             Elements                                    Data Type\n",
    "#####   (a)          5        = =>                                             Integer (int)\n",
    "#####   (b)          5.0       ==>                                             float\n",
    "#####   (c)          5>1        ==>                                           Boolean (bool)\n",
    "#####   (d)          5*2 = 10    ==>                                     Integer (int)\n",
    "#####   (e)          '5'                ==>                               String (str)\n",
    "#####   (f)          '5'*2  = '55'        ==>                        String (str)\n",
    "#####   (g)         '5'+'2'  = '52'         ==>                  String(str)\n",
    "#####   (h)         5/2  = 2.5           ==>                           float\n",
    "#####   (i)          5%2  = 1          ==>                           Integer(int)\n",
    "#####   (j)          {5,2,1 }          ==>                           Set\n",
    "#####   (k)         5 == 3           ==>                     Boolean (bool)\n",
    "#####   (l)          Pi ( the number)    ==>               float"
   ]
  },
  {
   "cell_type": "markdown",
   "id": "97c6c0b2",
   "metadata": {},
   "source": [
    "a = '5'*2\n",
    "print( a, \" is of the type\",type(a))"
   ]
  },
  {
   "cell_type": "code",
   "execution_count": 2,
   "id": "ec82bbd9",
   "metadata": {},
   "outputs": [
    {
     "name": "stdout",
     "output_type": "stream",
     "text": [
      "52  is of the type <class 'str'>\n"
     ]
    }
   ],
   "source": [
    " a = '5'+'2'\n",
    "print(a, \" is of the type\",type(a))"
   ]
  },
  {
   "cell_type": "markdown",
   "id": "85060e12",
   "metadata": {},
   "source": [
    "### Question 2\n",
    "*************************\n",
    "#### Write (and evaluate) python expressions that answer these questions:\n",
    "#### a. How many letters are there in 'Supercalifragilisticexpialidocious'?"
   ]
  },
  {
   "cell_type": "code",
   "execution_count": 3,
   "id": "65929311",
   "metadata": {},
   "outputs": [
    {
     "name": "stdout",
     "output_type": "stream",
     "text": [
      "the number of letters in Supercalifragilisticexpialidocious are 34\n"
     ]
    }
   ],
   "source": [
    "data = 'Supercalifragilisticexpialidocious'\n",
    "x = len(data)\n",
    "print(\"the number of letters in\",data,\"are\",x)"
   ]
  },
  {
   "cell_type": "markdown",
   "id": "5e0087e6",
   "metadata": {},
   "source": [
    "####  b. Does 'Supercalifragilisticexpialidocious' contain 'ice' as a substring? "
   ]
  },
  {
   "cell_type": "code",
   "execution_count": 4,
   "id": "8c72f220",
   "metadata": {},
   "outputs": [
    {
     "name": "stdout",
     "output_type": "stream",
     "text": [
      "Does Supercalifragilisticexpialidocious contains 'ice' as a substring ? \n",
      "yes\n"
     ]
    }
   ],
   "source": [
    "data = 'Supercalifragilisticexpialidocious'\n",
    "print(\"Does\", data,\"contains 'ice' as a substring ? \")\n",
    "if ('ice' in data ) :\n",
    "   print(\"yes\")\n",
    "else :\n",
    "   print(\"no\")"
   ]
  },
  {
   "cell_type": "markdown",
   "id": "2abda180",
   "metadata": {},
   "source": [
    "#### c. Which of the following words is the longest:\n",
    "#### Supercalifragilisticexpialidocious, Honorificabilitudinitatibus, or Bababadalgharaghtakamminarronnkonn?"
   ]
  },
  {
   "cell_type": "code",
   "execution_count": 5,
   "id": "f1d6a16a",
   "metadata": {},
   "outputs": [
    {
     "name": "stdout",
     "output_type": "stream",
     "text": [
      "Supercalifragilisticexpialidocious and Bababadalgharaghtakamminarronnkonn both are the largest word.\n"
     ]
    }
   ],
   "source": [
    "data1 = 'Supercalifragilisticexpialidocious'\n",
    "data2 = 'Honorificabilitudinitatibus'\n",
    "data3 = 'Bababadalgharaghtakamminarronnkonn'\n",
    "x = len(data1)\n",
    "y = len(data2)\n",
    "z = len(data3)\n",
    "if(x >= y and x >=z):\n",
    "   if(x==y):\n",
    "      print(data,\"and\",data2,\"both are the largest word .\")\n",
    "   elif(x==z):\n",
    "      print(data,\"and\",data3,\"both are the largest word.\")\n",
    "   else :\n",
    "    print(data ,\"is the longest word.\")\n",
    "elif(y >= x and y >= z):\n",
    "    if(y==z):\n",
    "       print(data2,\"and\",data3,\"both are the largest word.\")\n",
    "    else:\n",
    "     print(data2,\"is the longest word.\")\n",
    "else:\n",
    "   print(data3,\"is the longest word.\")"
   ]
  },
  {
   "cell_type": "markdown",
   "id": "af0647d0",
   "metadata": {},
   "source": [
    "#### d. Which composer comes first in the dictionary: 'Berlioz', 'Borodin', 'Brian','Bartok', 'Bellini', 'Buxtehude', 'Bernstein'. Which one comes last?"
   ]
  },
  {
   "cell_type": "code",
   "execution_count": 6,
   "id": "e3e7dad2",
   "metadata": {},
   "outputs": [
    {
     "name": "stdout",
     "output_type": "stream",
     "text": [
      "the first word in the given dictionary is Bartok\n",
      "the last word in the given dictionary is Buxtehude\n"
     ]
    }
   ],
   "source": [
    "unordered_dic = ['Berlioz', 'Borodin', 'Brian','Bartok', 'Bellini', 'Buxtehude', 'Bernstein']\n",
    "ordered_dic = sorted(unordered_dic)\n",
    "print(\"the first word in the given dictionary is\",ordered_dic[0])\n",
    "print(\"the last word in the given dictionary is\",ordered_dic[6])"
   ]
  },
  {
   "cell_type": "markdown",
   "id": "b84998b6",
   "metadata": {},
   "source": [
    "### Question 3\n",
    "**************************************************************\n",
    "#### Implement function triangleArea(a,b,c) that takes as input the lengths of the 3sides of a triangle and returns the area of the triangle. By Heron's formula, the areaof a triangle with side lengths a, b, and c is s(s - a)(s -b)(s -c), where s = (a+b+c)/2 . "
   ]
  },
  {
   "cell_type": "code",
   "execution_count": 7,
   "id": "94c3d0a0",
   "metadata": {},
   "outputs": [
    {
     "name": "stdout",
     "output_type": "stream",
     "text": [
      "please enter the first side :  2\n",
      "please enter the second side :  2\n",
      "Please enter the third side :  2\n",
      "area of triangle is 1.7320508075688772\n"
     ]
    }
   ],
   "source": [
    "def triangleArea(a,b,c): \n",
    "   s = (a + b + c)/2\n",
    "   area = (s*(s-a)*(s-b)*(s-c))**0.5\n",
    "   return area\n",
    "side1 = float (input(\"please enter the first side :  \"))\n",
    "side2 =float (input(\"please enter the second side :  \"))\n",
    "side3 = float (input(\"Please enter the third side :  \"))\n",
    "area_of_triangle = triangleArea(side1,side2,side3)\n",
    "print(\"area of triangle is\",area_of_triangle)"
   ]
  },
  {
   "cell_type": "markdown",
   "id": "49b478d4",
   "metadata": {},
   "source": [
    "### Question 4\n",
    "********************\n",
    "#### Write a program in python to separate odd and even integers in separate arrays. Goto the editor\n",
    "#### Test Data :\n",
    "#### Input the number of elements to be stored in the array :5\n",
    "#### Input 5 elements in the array :\n",
    "#### element - 0 : 25\n",
    "#### element - 1 : 47\n",
    "#### element - 2 : 42\n",
    "#### element - 3 : 56\n",
    "#### element - 4 : 32"
   ]
  },
  {
   "cell_type": "code",
   "execution_count": 1,
   "id": "9c13f4a6",
   "metadata": {},
   "outputs": [
    {
     "name": "stdout",
     "output_type": "stream",
     "text": [
      "Please enter the number of elements to be stored in array :\n",
      "5\n",
      " \n",
      " Please enter the elements of array:\n",
      "25\n",
      "47\n",
      "42\n",
      "56\n",
      "32\n",
      "Input array is : [25, 47, 42, 56, 32]\n",
      "Even array is : [42, 56, 32]\n",
      "Odd array is : [25, 47]\n"
     ]
    }
   ],
   "source": [
    "input_array = []\n",
    "even_array = []\n",
    "odd_array = []\n",
    "print(\"Please enter the number of elements to be stored in array :\")\n",
    "n =int(input())\n",
    "print(\" \\n Please enter the elements of array:\")\n",
    "i = 0\n",
    "while i<n :\n",
    "    a =int(input())\n",
    "    input_array.append(a)\n",
    "    i +=1\n",
    "for j in input_array :\n",
    "    if(j%2==0):\n",
    "        even_array.append(j)\n",
    "    else :\n",
    "        odd_array.append(j)\n",
    "print(\"Input array is :\",input_array)\n",
    "print(\"Even array is :\",even_array)\n",
    "print(\"Odd array is :\",odd_array)  "
   ]
  },
  {
   "cell_type": "markdown",
   "id": "8593a89f",
   "metadata": {},
   "source": [
    "### Question 5\n",
    "*******************\n",
    "#### a. Write a function inside(x,y,x1,y1,x2,y2) that returns True or False depending on whether the point (x,y) lies in the rectangle with lower left corner (x1,y1) and upper right corner (x2,y2)."
   ]
  },
  {
   "cell_type": "code",
   "execution_count": 8,
   "id": "bbbc0091",
   "metadata": {},
   "outputs": [
    {
     "name": "stdout",
     "output_type": "stream",
     "text": [
      "please enter the x coordinate of point to be check :1\n",
      "please enter the y coordinate of point to be check :1\n",
      "please enter the x coordinate of lower left point of rectangle:0\n",
      "please enter the y coordinate of lower left corner point of rectangle:0\n",
      "please enter the x coordinate of upper right corner point of rectangle:2\n",
      "please enter the y coordinate of upper right corner point of rectangle:3\n",
      "inside( 1.0 , 1.0 , 0.0 , 0.0 , 2.0 , 3.0 )\n",
      "True\n"
     ]
    }
   ],
   "source": [
    "def inside(x,y,x1,y1,x2,y2):\n",
    "    if(x>x1 and x< x2 and y>y1 and y<y2):\n",
    "        return True\n",
    "    else :\n",
    "        return False\n",
    "a = float(input(\"please enter the x coordinate of point to be check :\"))\n",
    "b = float(input(\"please enter the y coordinate of point to be check :\"))\n",
    "a1 =  float(input(\"please enter the x coordinate of lower left point of rectangle:\"))\n",
    "b1 = float(input(\"please enter the y coordinate of lower left corner point of rectangle:\"))\n",
    "a2 = float(input(\"please enter the x coordinate of upper right corner point of rectangle:\"))\n",
    "b2 = float(input(\"please enter the y coordinate of upper right corner point of rectangle:\"))\n",
    "result = inside(a,b,a1,b1,a2,b2)\n",
    "print(\"inside(\",a,\",\",b,\",\",a1,\",\",b1,\",\",a2,\",\",b2,\")\")\n",
    "print(result)"
   ]
  },
  {
   "cell_type": "markdown",
   "id": "ef9fe219",
   "metadata": {},
   "source": [
    "#### b. Use function inside() from part a. to write an expression that tests whetherthe point (1,1) lies in both of the following rectangles: one with lower leftcorner (0.3, 0.5) and upper right corner (1.1, 0.7) and the other with lowerleft corner (0.5, 0.2) and upper right corner (1.1, 2). "
   ]
  },
  {
   "cell_type": "code",
   "execution_count": 9,
   "id": "09ba9bea",
   "metadata": {},
   "outputs": [
    {
     "name": "stdout",
     "output_type": "stream",
     "text": [
      "The point (1,1) lies in the given rectangle  False\n"
     ]
    }
   ],
   "source": [
    "result1 = inside(1,1,0.3,0.5,1.1,0.7)\n",
    "print(\"The point (1,1) lies in the given rectangle \",result1)"
   ]
  },
  {
   "cell_type": "code",
   "execution_count": 10,
   "id": "9899be08",
   "metadata": {},
   "outputs": [
    {
     "name": "stdout",
     "output_type": "stream",
     "text": [
      "the point (1,1) lies in the given rectangle : True\n"
     ]
    }
   ],
   "source": [
    "result2 = inside(1,1,0.5,0.2,1.1,2)\n",
    "print(\"the point (1,1) lies in the given rectangle :\",result2)"
   ]
  },
  {
   "cell_type": "markdown",
   "id": "cd247ce5",
   "metadata": {},
   "source": [
    "### Question 6\n",
    "******************************************************\n",
    "####  You can turn a word into pig-Latin using the following two rules (simplified):\n",
    "#### • If the word starts with a consonant, move that letter to the end and append'ay'. For example, 'happy' becomes 'appyhay' and 'pencil' becomes 'encilpay'.\n",
    "#### • If the word starts with a vowel, simply append 'way' to the end of the word.For example, 'enter' becomes 'enterway' and 'other' becomes 'otherway' . For our purposes, there are 5 vowels: a, e, i, o, u (so we count y as a consonant).\n",
    "#### Write a function pig() that takes a word (i.e., a string) as input and returns its pigLatin form. Your function should still work if the input word contains upper case characters. Your output should always be lower case however. "
   ]
  },
  {
   "cell_type": "code",
   "execution_count": 11,
   "id": "170cdb50",
   "metadata": {},
   "outputs": [
    {
     "name": "stdout",
     "output_type": "stream",
     "text": [
      "Enter a word which start consonant:Happy\n",
      "pig-Latin form of input word is : appyhay\n",
      "Enter a word which start Vowel:ENTERWAY\n",
      "pig-Latin form of input word is : nterwayeay\n"
     ]
    }
   ],
   "source": [
    "def pig(word):\n",
    "    \n",
    "    if (word[0]=='a' or word[0] =='i'or word[0] == 'e'  or word[0] == 'o' or word[0]=='u'): \n",
    "        pig_Latin = word+'way'\n",
    "        print(\"pig-Latin form of input word is :\",pig_Latin.lower()) \n",
    "    else: \n",
    "        pig_Latin = word[1:]+word[0]+'ay'\n",
    "        print(\"pig-Latin form of input word is :\",pig_Latin.lower())         \n",
    "input_word1=input(\"Enter a word which start consonant:\")\n",
    "pig(input_word1) \n",
    "input_word2=input(\"Enter a word which start Vowel:\")\n",
    "pig(input_word2) "
   ]
  },
  {
   "cell_type": "markdown",
   "id": "c21366a8",
   "metadata": {},
   "source": [
    "### Question 7\n",
    "*************\n",
    "#### File bloodtype1.txt records blood-types of patients (A, B, AB, O or OO) at a clinic.\n",
    "#### Write a function bldcount() that reads the file with name *name* and reports (i.e.,prints) how many patients there are in each bloodtype.\n"
   ]
  },
  {
   "cell_type": "code",
   "execution_count": 1,
   "id": "e6c3c0e5",
   "metadata": {},
   "outputs": [
    {
     "name": "stdout",
     "output_type": "stream",
     "text": [
      "AB AB B O A A AB O AB A O O A A A O O O AB O A A A A A AB AB A AB O AB O A O O O AB O AB AB AB A A \n",
      "There are 13  patients of blood type AB\n",
      "There are 1  patients of blood type A\n",
      "There are  15 patients of blood type B\n",
      "There are  14  patients of blood type O\n",
      "There are 0  patients of blood type OO\n"
     ]
    }
   ],
   "source": [
    "def bldcount(): \n",
    " name =open(\"bloodtype.txt\")\n",
    " content =name.read()\n",
    " print(content)\n",
    " name.close()\n",
    " return(content)\n",
    "\n",
    "result = bldcount()\n",
    "bloodlist= result.split()\n",
    "\n",
    "AB=0\n",
    "B=0\n",
    "A=0\n",
    "O=0\n",
    "OO=0\n",
    "\n",
    "for i in range(len(bloodlist)):\n",
    "    if(bloodlist[i] == 'AB'):\n",
    "        AB= AB+1\n",
    "    elif(bloodlist[i] == 'B'):\n",
    "        B= B+1\n",
    "    elif(bloodlist[i]=='A'):\n",
    "        A= A+1\n",
    "    elif(bloodlist[i]=='O'):\n",
    "        O= O+1\n",
    "    elif(bloodlist[i]=='OO'):\n",
    "        OO=OO+1\n",
    "        \n",
    "print(\"There are\",AB,\" patients of blood type AB\")\n",
    "print(\"There are\",B,\" patients of blood type A\")\n",
    "print(\"There are \",A,\"patients of blood type B\")\n",
    "print(\"There are \",O,\" patients of blood type O\")\n",
    "print(\"There are\",OO,\" patients of blood type OO\")"
   ]
  },
  {
   "cell_type": "markdown",
   "id": "42abfe42",
   "metadata": {},
   "source": [
    "### Question 8\n",
    "************************\n",
    "#### Write a function curconv() that takes as input:\n",
    "#### 1. a currency represented using a string (e.g., 'JPY' for the Japanese Yen or'EUR' for the Euro)\n",
    "#### 2. an amount\n",
    "#### and then converts and returns the amount in US dollars."
   ]
  },
  {
   "cell_type": "code",
   "execution_count": 2,
   "id": "59ed197d",
   "metadata": {},
   "outputs": [
    {
     "name": "stdout",
     "output_type": "stream",
     "text": [
      "Enter the amount: 1000\n",
      "Enter the currency: INR\n",
      "1000.0 INR is equal to 17.7643 USD\n"
     ]
    }
   ],
   "source": [
    "def curconv(amount, currency):\n",
    "  rate_of_conversion = {'AUD': 1.0345157,'CHF':1.0237414,'CNY':0.1550176,'DKK':0.1651442,\n",
    "               'EUR':1.2296544,'GBP':1.5550989,'HKD':0.1270207, 'INR':0.0177643,\n",
    "               'JPY': 0.01241401,'MXN': 0.0751848,'MYR': 0.3145411,'NOK':0.1677063,\n",
    "               'NZD':0.8003591,'PHP':0.0233234,'SEK':0.148269,'SGD':0.788871,'THB':0.0313789}   #Dictionary of currency rates.\n",
    "  \n",
    "  conversion_rate = rate_of_conversion.get(currency, 0)\n",
    "  if conversion_rate == 0:\n",
    "    return None\n",
    "  \n",
    "  return amount * conversion_rate\n",
    "\n",
    "input_amount = float(input(\"Enter the amount: \"))\n",
    "input_currency = input(\"Enter the currency: \")\n",
    "\n",
    "usd = curconv(input_amount, input_currency)\n",
    "if usd is None:\n",
    "  print(\"Input currency is invalid\")\n",
    "else:\n",
    "  print(input_amount,input_currency, \"is equal to\",usd,\"USD\")"
   ]
  },
  {
   "cell_type": "markdown",
   "id": "da0cf303",
   "metadata": {},
   "source": [
    "### Question 9\n",
    "**********************\n",
    "#### Each of the following will cause an exception (an error). Identify what type ofexception each will cause.\n",
    "#### (a) Trying to add incompatible variables, as in adding 6 + ‘a’"
   ]
  },
  {
   "cell_type": "markdown",
   "id": "7675aa25",
   "metadata": {},
   "source": [
    "Answer :  TypeError: unsupported operand type(s) for +: 'int' and 'str'\n",
    "\n",
    "6 is integer while a is charcter."
   ]
  },
  {
   "cell_type": "code",
   "execution_count": 4,
   "id": "242a6620",
   "metadata": {},
   "outputs": [
    {
     "ename": "TypeError",
     "evalue": "unsupported operand type(s) for +: 'int' and 'str'",
     "output_type": "error",
     "traceback": [
      "\u001b[1;31m---------------------------------------------------------------------------\u001b[0m",
      "\u001b[1;31mTypeError\u001b[0m                                 Traceback (most recent call last)",
      "Cell \u001b[1;32mIn[4], line 1\u001b[0m\n\u001b[1;32m----> 1\u001b[0m data \u001b[38;5;241m=\u001b[39m \u001b[38;5;241;43m6\u001b[39;49m\u001b[43m \u001b[49m\u001b[38;5;241;43m+\u001b[39;49m\u001b[38;5;124;43m'\u001b[39;49m\u001b[38;5;124;43ma\u001b[39;49m\u001b[38;5;124;43m'\u001b[39;49m\n\u001b[0;32m      2\u001b[0m \u001b[38;5;28mprint\u001b[39m(data)\n",
      "\u001b[1;31mTypeError\u001b[0m: unsupported operand type(s) for +: 'int' and 'str'"
     ]
    }
   ],
   "source": [
    "data = 6 +'a'\n",
    "print(data)"
   ]
  },
  {
   "cell_type": "markdown",
   "id": "548c0871",
   "metadata": {},
   "source": [
    "#### (b) Referring to the 12th item of a list that has only 10 items"
   ]
  },
  {
   "cell_type": "markdown",
   "id": "3e1dee3e",
   "metadata": {},
   "source": [
    " Answer : IndexError: list index out of range . Because there are only 10 elements in the list ."
   ]
  },
  {
   "cell_type": "code",
   "execution_count": 5,
   "id": "7cbb161c",
   "metadata": {
    "scrolled": false
   },
   "outputs": [
    {
     "name": "stdout",
     "output_type": "stream",
     "text": [
      "12\n"
     ]
    },
    {
     "ename": "IndexError",
     "evalue": "list index out of range",
     "output_type": "error",
     "traceback": [
      "\u001b[1;31m---------------------------------------------------------------------------\u001b[0m",
      "\u001b[1;31mIndexError\u001b[0m                                Traceback (most recent call last)",
      "Cell \u001b[1;32mIn[5], line 3\u001b[0m\n\u001b[0;32m      1\u001b[0m even_list \u001b[38;5;241m=\u001b[39m[\u001b[38;5;241m2\u001b[39m,\u001b[38;5;241m4\u001b[39m,\u001b[38;5;241m6\u001b[39m,\u001b[38;5;241m8\u001b[39m,\u001b[38;5;241m10\u001b[39m,\u001b[38;5;241m12\u001b[39m,\u001b[38;5;241m14\u001b[39m,\u001b[38;5;241m16\u001b[39m,\u001b[38;5;241m18\u001b[39m,\u001b[38;5;241m10\u001b[39m]\n\u001b[0;32m      2\u001b[0m \u001b[38;5;28mprint\u001b[39m(even_list[\u001b[38;5;241m5\u001b[39m])\n\u001b[1;32m----> 3\u001b[0m \u001b[38;5;28mprint\u001b[39m(\u001b[43meven_list\u001b[49m\u001b[43m[\u001b[49m\u001b[38;5;241;43m12\u001b[39;49m\u001b[43m]\u001b[49m)\n",
      "\u001b[1;31mIndexError\u001b[0m: list index out of range"
     ]
    }
   ],
   "source": [
    "even_list =[2,4,6,8,10,12,14,16,18,10]\n",
    "print(even_list[5])\n",
    "print(even_list[12])"
   ]
  },
  {
   "cell_type": "markdown",
   "id": "31e590cb",
   "metadata": {},
   "source": [
    "#### (c). Using a value that is out of range for a function’s input, such as calling math.sqrt(-1.0)\n"
   ]
  },
  {
   "cell_type": "markdown",
   "id": "8008698f",
   "metadata": {},
   "source": [
    "Answer : ValueError: math domain error"
   ]
  },
  {
   "cell_type": "code",
   "execution_count": 10,
   "id": "9692fe80",
   "metadata": {},
   "outputs": [
    {
     "name": "stdout",
     "output_type": "stream",
     "text": [
      "3.0\n"
     ]
    }
   ],
   "source": [
    "import math\n",
    "x = math.sqrt(9)\n",
    "print(x)"
   ]
  },
  {
   "cell_type": "code",
   "execution_count": 11,
   "id": "3bc4e815",
   "metadata": {},
   "outputs": [
    {
     "ename": "ValueError",
     "evalue": "math domain error",
     "output_type": "error",
     "traceback": [
      "\u001b[1;31m---------------------------------------------------------------------------\u001b[0m",
      "\u001b[1;31mValueError\u001b[0m                                Traceback (most recent call last)",
      "Cell \u001b[1;32mIn[11], line 2\u001b[0m\n\u001b[0;32m      1\u001b[0m \u001b[38;5;28;01mimport\u001b[39;00m \u001b[38;5;21;01mmath\u001b[39;00m\n\u001b[1;32m----> 2\u001b[0m x \u001b[38;5;241m=\u001b[39m \u001b[43mmath\u001b[49m\u001b[38;5;241;43m.\u001b[39;49m\u001b[43msqrt\u001b[49m\u001b[43m(\u001b[49m\u001b[38;5;241;43m-\u001b[39;49m\u001b[38;5;241;43m1.0\u001b[39;49m\u001b[43m)\u001b[49m\n\u001b[0;32m      3\u001b[0m \u001b[38;5;28mprint\u001b[39m(x)\n",
      "\u001b[1;31mValueError\u001b[0m: math domain error"
     ]
    }
   ],
   "source": [
    "import math\n",
    "x = math.sqrt(-1.0)\n",
    "print(x)"
   ]
  },
  {
   "cell_type": "markdown",
   "id": "6d59efdb",
   "metadata": {},
   "source": [
    "#### (d). Using an undeclared variable, such as print(x) when x has not been defined."
   ]
  },
  {
   "cell_type": "markdown",
   "id": "c1f9ec12",
   "metadata": {},
   "source": [
    "Answer : NameError: name 'x' is not defined"
   ]
  },
  {
   "cell_type": "code",
   "execution_count": 6,
   "id": "cab260ec",
   "metadata": {
    "scrolled": true
   },
   "outputs": [
    {
     "ename": "NameError",
     "evalue": "name 'x' is not defined",
     "output_type": "error",
     "traceback": [
      "\u001b[1;31m---------------------------------------------------------------------------\u001b[0m",
      "\u001b[1;31mNameError\u001b[0m                                 Traceback (most recent call last)",
      "Cell \u001b[1;32mIn[6], line 1\u001b[0m\n\u001b[1;32m----> 1\u001b[0m \u001b[38;5;28mprint\u001b[39m(\u001b[43mx\u001b[49m)\n",
      "\u001b[1;31mNameError\u001b[0m: name 'x' is not defined"
     ]
    }
   ],
   "source": [
    "print(x)"
   ]
  },
  {
   "cell_type": "markdown",
   "id": "d98afc07",
   "metadata": {},
   "source": [
    "#### (e). Trying to open a file that does not exist, such as mistyping the file name or looking in the wrong directory. "
   ]
  },
  {
   "cell_type": "markdown",
   "id": "2406a2fd",
   "metadata": {},
   "source": [
    "Answer : FileNotFoundError: No such file or directory: 'bldtype.txt'"
   ]
  },
  {
   "cell_type": "code",
   "execution_count": 7,
   "id": "e6cafe87",
   "metadata": {
    "scrolled": true
   },
   "outputs": [
    {
     "ename": "FileNotFoundError",
     "evalue": "[Errno 2] No such file or directory: 'bldtype.txt'",
     "output_type": "error",
     "traceback": [
      "\u001b[1;31m---------------------------------------------------------------------------\u001b[0m",
      "\u001b[1;31mFileNotFoundError\u001b[0m                         Traceback (most recent call last)",
      "Cell \u001b[1;32mIn[7], line 1\u001b[0m\n\u001b[1;32m----> 1\u001b[0m name \u001b[38;5;241m=\u001b[39m\u001b[38;5;28;43mopen\u001b[39;49m\u001b[43m(\u001b[49m\u001b[38;5;124;43m\"\u001b[39;49m\u001b[38;5;124;43mbldtype.txt\u001b[39;49m\u001b[38;5;124;43m\"\u001b[39;49m\u001b[43m)\u001b[49m\n\u001b[0;32m      2\u001b[0m content \u001b[38;5;241m=\u001b[39mname\u001b[38;5;241m.\u001b[39mread()\n\u001b[0;32m      3\u001b[0m \u001b[38;5;28mprint\u001b[39m(content)\n",
      "File \u001b[1;32m~\\anaconda3\\lib\\site-packages\\IPython\\core\\interactiveshell.py:282\u001b[0m, in \u001b[0;36m_modified_open\u001b[1;34m(file, *args, **kwargs)\u001b[0m\n\u001b[0;32m    275\u001b[0m \u001b[38;5;28;01mif\u001b[39;00m file \u001b[38;5;129;01min\u001b[39;00m {\u001b[38;5;241m0\u001b[39m, \u001b[38;5;241m1\u001b[39m, \u001b[38;5;241m2\u001b[39m}:\n\u001b[0;32m    276\u001b[0m     \u001b[38;5;28;01mraise\u001b[39;00m \u001b[38;5;167;01mValueError\u001b[39;00m(\n\u001b[0;32m    277\u001b[0m         \u001b[38;5;124mf\u001b[39m\u001b[38;5;124m\"\u001b[39m\u001b[38;5;124mIPython won\u001b[39m\u001b[38;5;124m'\u001b[39m\u001b[38;5;124mt let you open fd=\u001b[39m\u001b[38;5;132;01m{\u001b[39;00mfile\u001b[38;5;132;01m}\u001b[39;00m\u001b[38;5;124m by default \u001b[39m\u001b[38;5;124m\"\u001b[39m\n\u001b[0;32m    278\u001b[0m         \u001b[38;5;124m\"\u001b[39m\u001b[38;5;124mas it is likely to crash IPython. If you know what you are doing, \u001b[39m\u001b[38;5;124m\"\u001b[39m\n\u001b[0;32m    279\u001b[0m         \u001b[38;5;124m\"\u001b[39m\u001b[38;5;124myou can use builtins\u001b[39m\u001b[38;5;124m'\u001b[39m\u001b[38;5;124m open.\u001b[39m\u001b[38;5;124m\"\u001b[39m\n\u001b[0;32m    280\u001b[0m     )\n\u001b[1;32m--> 282\u001b[0m \u001b[38;5;28;01mreturn\u001b[39;00m io_open(file, \u001b[38;5;241m*\u001b[39margs, \u001b[38;5;241m*\u001b[39m\u001b[38;5;241m*\u001b[39mkwargs)\n",
      "\u001b[1;31mFileNotFoundError\u001b[0m: [Errno 2] No such file or directory: 'bldtype.txt'"
     ]
    }
   ],
   "source": [
    "name =open(\"bldtype.txt\")\n",
    "content =name.read()\n",
    "print(content)"
   ]
  },
  {
   "cell_type": "markdown",
   "id": "402d71ba",
   "metadata": {},
   "source": [
    "### Question 10\n",
    "*************\n",
    "####  Write a function called frequencies() that takes a string as its only parameter, and returns a list of integers, showing the number of times each character appears in the text. Your function may ignore any characters that are not in letters. "
   ]
  },
  {
   "cell_type": "code",
   "execution_count": 9,
   "id": "829093f9",
   "metadata": {},
   "outputs": [
    {
     "name": "stdout",
     "output_type": "stream",
     "text": [
      "please enter the string you want to encrypt :My name is rimpal\n",
      "dict_values([2, 0, 0, 0, 1, 0, 0, 0, 2, 0, 0, 1, 3, 1, 0, 1, 0, 1, 1, 0, 0, 0, 0, 0, 1, 0])\n"
     ]
    }
   ],
   "source": [
    "def frequencies(text):\n",
    "    text = text.lower()\n",
    "    alphabets = { \"a\":0,\"b\":0,\"c\":0,\"d\":0,\"e\":0,\"f\":0,\"g\":0,\"h\":0,\"i\":0,\"j\":0,\"k\":0,\"l\":0,\"m\":0,\n",
    "                 \"n\":0,\"o\":0,\"p\":0,\"q\":0,\"r\":0,\"s\":0,\"t\":0,\"u\":0,\"v\":0,\"w\":0,\"x\":0,\"y\":0,\"z\":0}\n",
    "    for i in range(len(text)):\n",
    "        \n",
    "        if(text[i].isalpha()):\n",
    "            alphabets[text[i]] += 1\n",
    "    print(alphabets.values())\n",
    "\n",
    "input_string =input(\"please enter the string you want to encrypt :\")\n",
    "result = frequencies(input_string)"
   ]
  },
  {
   "cell_type": "markdown",
   "id": "0488da54",
   "metadata": {},
   "source": [
    "#### **BIG DATA ANALYTICS**\n",
    "#####  **Student ID : 200532145**\n",
    "#####  **Name : Rimpal**\n",
    "#####  **Section : C**"
   ]
  }
 ],
 "metadata": {
  "kernelspec": {
   "display_name": "Python 3 (ipykernel)",
   "language": "python",
   "name": "python3"
  },
  "language_info": {
   "codemirror_mode": {
    "name": "ipython",
    "version": 3
   },
   "file_extension": ".py",
   "mimetype": "text/x-python",
   "name": "python",
   "nbconvert_exporter": "python",
   "pygments_lexer": "ipython3",
   "version": "3.10.9"
  }
 },
 "nbformat": 4,
 "nbformat_minor": 5
}
