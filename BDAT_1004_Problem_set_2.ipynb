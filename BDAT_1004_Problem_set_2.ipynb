{
 "cells": [
  {
   "cell_type": "markdown",
   "id": "ce00acba",
   "metadata": {},
   "source": [
    "# Problem Set : 2  BDAT 1004\n",
    "# ----------------------------------------"
   ]
  },
  {
   "cell_type": "markdown",
   "id": "fff5ba6e",
   "metadata": {},
   "source": [
    "## Question 1.\n",
    "********************************************************************************************************************************\n",
    "#### Consider the following Python module:\n",
    "#### a = 0\n",
    "#### def b():\n",
    "####   global a\n",
    "####   a = c(a)\n",
    "#### def c(a):\n",
    "####  return a + 2\n",
    "#### After importing the module into the interpreter, you execute:\n",
    "#### >>> b()\n",
    "#### >>> b()\n",
    "#### >>> b()\n",
    "#### >>> a\n",
    "#### ?\n",
    "#### What value is displayed when the last expression (a) is evaluated? Explain your answer by indicating what happens in every executed statement."
   ]
  },
  {
   "cell_type": "markdown",
   "id": "1c7ad82d",
   "metadata": {},
   "source": [
    "## Answer :\n",
    "********************************************************************************************************************************\n",
    "####  Initially the vaue of a = 0. \n",
    "#### When the function b() is called first time the variable a is declared as global variable and then b() called the another function c(a) which takes the a as input variable and return the value of a by increasing it by 2 to the function b(). Thus value of a in the first time excution is 2.\n",
    "#### Now a =2\n",
    "#### When the b() is called again it takes a =2 and called the function c(a) which increases the value of a by 2 and thus, a= 4.\n",
    "#### In the third excution time b() takes a = 4 and then it becomes a = 6 when the function c(a) is called as c(a) returns a+2.\n",
    "#### Thus after three excution of function b() value of a = 6. So if we print 'a' then it prints its value which is 6.\n",
    "\n"
   ]
  },
  {
   "cell_type": "code",
   "execution_count": 13,
   "id": "7d4b9fec",
   "metadata": {},
   "outputs": [
    {
     "name": "stdout",
     "output_type": "stream",
     "text": [
      "6\n"
     ]
    }
   ],
   "source": [
    "import module\n",
    "(module.b()) \n",
    "(module.b())\n",
    "(module.b())\n",
    "print(module.a)"
   ]
  },
  {
   "cell_type": "markdown",
   "id": "62e21e66",
   "metadata": {},
   "source": [
    "### Question 2.\n",
    "********************************************************************************************************************************\n",
    " #### Function fileLength(), given to you, takes the name of a file as input and returns the length of the file:\n",
    " #### >>> fileLength('midterm.py')\n",
    "  #### 284\n",
    " #### >>> fileLength('idterm.py)\n",
    " #### Traceback (most recent call last):\n",
    " ####  File \"<pyshell#34>\", line 1, in <module> \n",
    " #### fileLength('idterm.py')\n",
    " #### File \"/Users/me/midterm.py\", line 3, in fileLength\n",
    " #### infile = open(filename)\n",
    "#### FileNotFoundError: [Errno 2] No such file or directory:\n",
    " #### 'idterm.py'\n",
    " #### As shown above, if the file cannot be found by the interpreter or if it cannot be read\n",
    " #### as a text file, an exception will be raised. Modify function fileLength() so that a\n",
    "#### friendly message is printed instead:\n",
    " #### >>> fileLength('midterm.py')\n",
    " #### 358\n",
    "#### >>> fileLength('idterm.py')\n",
    "#### File idterm.py not found.\n",
    "### Answer :\n",
    "********************************************************************************************************************************"
   ]
  },
  {
   "cell_type": "code",
   "execution_count": 3,
   "id": "cf37c418",
   "metadata": {},
   "outputs": [
    {
     "name": "stdout",
     "output_type": "stream",
     "text": [
      "Enter the filename: module.ipynb\n",
      "Length of file module.ipynb is 1105\n"
     ]
    }
   ],
   "source": [
    "def file_Length(file_name):\n",
    "    try:\n",
    "        file = open(file_name, 'r') # open the file\n",
    "        contents = file.read()  # read the file\n",
    "        file.close()\n",
    "        return len(contents)  # calculate the length of file and return the result\n",
    "    except FileNotFoundError:\n",
    "        print(\"File\", file_name, \"not found.\")\n",
    "\n",
    "input_filename = input(\"Enter the filename: \")\n",
    "\n",
    "length = file_Length(input_filename) # call the function file_name\n",
    "\n",
    "if length is not None:\n",
    "    print(\"Length of file\", input_filename, \"is\", length)"
   ]
  },
  {
   "cell_type": "markdown",
   "id": "903e2d1e",
   "metadata": {},
   "source": [
    "### Question 3.\n",
    "********************************************************************************************************************************\n",
    "#### Write a class named Marsupial that can be used as shown below:\n",
    "#### >>> m = Marsupial()\n",
    "#### >>> m.put_in_pouch('doll')\n",
    "#### >>> m.put_in_pouch('firetruck')\n",
    "#### >>> m.put_in_pouch('kitten')\n",
    "#### >>> m.pouch_contents()\n",
    "#### ['doll', 'firetruck', 'kitten']\n",
    "#### Now write a class named Kangaroo as a subclass of Marsupial that inherits all the\n",
    "#### attributes of Marsupial and also:\n",
    "#### a. extends the Marsupial __init__ constructor to take, as input, the  coordinates x and y of the Kangaroo object,\n",
    "#### b. supports method jump that takes number values dx and dy as input and moves the kangaroo by dx units along the x-axis and by dy units along the yaxis, and\n",
    "#### c. overloads the __str__ operator so it behaves as shown below.\n",
    "#### >>> k = Kangaroo(0,0)\n",
    "#### >>> print(k)\n",
    "#### I am a Kangaroo located at coordinates (0,0)\n",
    "#### >>> k.put_in_pouch('doll')\n",
    "#### >>> k.put_in_pouch('firetruck')\n",
    "#### >>> k.put_in_pouch('kitten')\n",
    "#### >>> k.pouch_contents()\n",
    "['doll', 'firetruck', 'kitten']\n",
    "#### >>> k.jump(1,0)\n",
    "#### >>> k.jump(1,0)\n",
    "#### >>> k.jump(1,0)\n",
    "#### >>> print(k)\n",
    "#### I am a Kangaroo located at coordinates (3,0)\n",
    "### Answer :\n",
    "********************************************************************************************************************************"
   ]
  },
  {
   "cell_type": "code",
   "execution_count": 3,
   "id": "52d95cab",
   "metadata": {},
   "outputs": [
    {
     "name": "stdout",
     "output_type": "stream",
     "text": [
      "I am a Kangaroo located at coordinates(0,0)\n",
      "['doll', 'firetruck', 'kitten']\n",
      "I am a Kangaroo located at coordinates(3,0)\n"
     ]
    }
   ],
   "source": [
    "class Marsupial:  #defining the main class\n",
    "    def __init__(self):\n",
    "        self.pouch = []      # variable creation\n",
    "\n",
    "    def put_in_pouch(self, element):\n",
    "        self.pouch.append(element)     # to add the items in pouch list\n",
    "\n",
    "    def pouch_contents(self):\n",
    "        return self.pouch        # return the pouch list\n",
    "\n",
    "\n",
    "class Kangaroo(Marsupial):  # creation of subclass of Marsupial class\n",
    "    def __init__(self, x, y):\n",
    "        super().__init__()  # to call the constructor of parent class or to use variable of parent class\n",
    "        self.x = x\n",
    "        self.y = y\n",
    "\n",
    "    def jump(self, dx, dy):  # method to add the changes in x and y\n",
    "        self.x = self.x + dx\n",
    "        self.y = self.y + dy\n",
    "\n",
    "    def __str__(self): # to print the message\n",
    "        return f\"I am a Kangaroo located at coordinates({self.x},{self.y})\"\n",
    "\n",
    "k = Kangaroo(0, 0) # creating object for class Kangaroo\n",
    "print(k)    \n",
    "k.put_in_pouch('doll')  # putting items in pouch list by using super class functions\n",
    "k.put_in_pouch('firetruck')\n",
    "k.put_in_pouch('kitten')\n",
    "print(k.pouch_contents())  # to display the item of pouch list\n",
    "k.jump(1, 0)\n",
    "k.jump(1, 0)\n",
    "k.jump(1, 0)\n",
    "print(k)"
   ]
  },
  {
   "cell_type": "markdown",
   "id": "fdb4c8df",
   "metadata": {},
   "source": [
    "### Question 4.\n",
    "**************************************************************************************\n",
    "#### Write function collatz() that takes a positive integer x as input and prints the Collatz sequence starting at x. A Collatz sequence is obtained by repeatedly applying this rule to the previous number x in the sequence:\n",
    "#### x = {\n",
    "#### 𝑥/2 𝑖𝑓 𝑥 𝑖𝑠 𝑒𝑣𝑒𝑛\n",
    "#### 3𝑥 + 1 𝑖𝑓 𝑥 𝑖𝑠 𝑜𝑑𝑑\n",
    "#### Your function should stop when the sequence gets to number 1. Your implementation must be recursive, without any loops.\n",
    "### Answer :\n",
    "************************************************************************************************************************"
   ]
  },
  {
   "cell_type": "code",
   "execution_count": 5,
   "id": "6afc7a08",
   "metadata": {},
   "outputs": [
    {
     "name": "stdout",
     "output_type": "stream",
     "text": [
      "enter the value of x :10\n",
      "10\n",
      "5\n",
      "16\n",
      "8\n",
      "4\n",
      "2\n",
      "1\n"
     ]
    }
   ],
   "source": [
    "def collatz(x):\n",
    "    print(x)\n",
    "    if x == 1: # checking condition to stop the function\n",
    "        return\n",
    "    elif (x % 2 == 0): # condition to check  wether the number is even or not\n",
    "        collatz(x // 2) # collatz function call itself\n",
    "    else:\n",
    "        collatz(3 * x + 1) # collatz function call itself\n",
    "input_x = int (input(\"enter the value of x :\"))\n",
    "output = collatz(input_x) "
   ]
  },
  {
   "cell_type": "markdown",
   "id": "a6bd9ed0",
   "metadata": {},
   "source": [
    "### Question 5 .\n",
    "*******************************\n",
    "#### Write a recursive method binary() that takes a non-negative integer n and prints the binary representation of integer n.\n",
    "### Answer :\n",
    "****************************"
   ]
  },
  {
   "cell_type": "code",
   "execution_count": 2,
   "id": "8f1258d6",
   "metadata": {},
   "outputs": [
    {
     "name": "stdout",
     "output_type": "stream",
     "text": [
      "please enter a non negative integer :10\n",
      " Binary repersentation is: 1010\n"
     ]
    }
   ],
   "source": [
    "def binary(n):\n",
    "    if(n<0): # if n is a negative integer\n",
    "        return\n",
    "    elif(n== 0): # binary for 0 is 0\n",
    "        return 0\n",
    "    elif(n==1): # binary for 1 is 1\n",
    "        return 1\n",
    "    else:\n",
    "        r = n%2+ 10*binary(n//2) # binary  function call itself\n",
    "        return r\n",
    "\n",
    "m = int (input(\"please enter a non negative integer :\"))\n",
    "binary_code = binary(m)\n",
    "if binary_code is None:\n",
    "    print(\"*Please enter valid number*\")\n",
    "else:    \n",
    "    print(\" Binary repersentation is:\",binary_code)"
   ]
  },
  {
   "cell_type": "markdown",
   "id": "825774f7",
   "metadata": {},
   "source": [
    "### Question 6 .\n",
    "****************************\n",
    "#### Implement a class named HeadingParser that can be used to parse an HTML document, and retrieve and print all the headings in the document. You should implement your class as a subclass of HTMLParser, defined in Standard Library module html.parser. When fed a string containing HTML code, your class should print the headings, one per line and in the order in which they appear in the document. Each heading should be indented as follows: an h1 heading should have indentation 0, and h2 heading should have indentation 1, etc. Test your implementation using w3c.html.\n",
    "### Answer :\n",
    "*******************************"
   ]
  },
  {
   "cell_type": "code",
   "execution_count": 1,
   "id": "01f42002",
   "metadata": {},
   "outputs": [
    {
     "name": "stdout",
     "output_type": "stream",
     "text": [
      "W3C Mission\n",
      "  Principles\n"
     ]
    }
   ],
   "source": [
    "from html.parser import HTMLParser  # import the HTMLParser from html.parser module\n",
    "\n",
    "class HeadingParser(HTMLParser):   # creating a class HeadingParser as a subclass of HTMLParser\n",
    "    def __init__(self):\n",
    "        super().__init__()\n",
    "        self.headings = []\n",
    "        self.current_heading = ''\n",
    "\n",
    "    def handle_starttag(self, tag, attrs):\n",
    "        if tag.startswith('h') and len(tag) == 2 and tag[1].isdigit():\n",
    "            self.current_heading = int(tag[1]) - 1\n",
    "\n",
    "    def handle_endtag(self, tag):\n",
    "        if tag.startswith('h') and len(tag) == 2 and tag[1].isdigit():\n",
    "            self.current_heading = ''\n",
    "\n",
    "    def handle_data(self, data):\n",
    "        if self.current_heading != '':\n",
    "            indentation = '  ' * self.current_heading\n",
    "            heading_text = data.strip()\n",
    "            self.headings.append(f'{indentation}{heading_text}')\n",
    "\n",
    "    def print_headings(self):\n",
    "        for heading in self.headings:\n",
    "            print(heading)\n",
    "\n",
    "\n",
    "\n",
    "with open('w3c.html') as infile:   # opening the given file\n",
    "    content = infile.read()\n",
    "\n",
    "hp = HeadingParser() # creating an object for class HeadingParser\n",
    "hp.feed(content)\n",
    "hp.print_headings()"
   ]
  },
  {
   "cell_type": "markdown",
   "id": "bdaf98f9",
   "metadata": {},
   "source": [
    "### Question 7 .\n",
    "**************************************\n",
    "#### Implement recursive function webdir() that takes as input: a URL (as a string) and non-negative integers depth and indent. Your function should visit every web page reachable from the starting URL web page in depth clicks or less, and print each web page's URL. As shown below, indentation, specified by indent, should be used to indicate the depth of a URL.\n",
    "### Answer :\n",
    "**********************\n"
   ]
  },
  {
   "cell_type": "code",
   "execution_count": 1,
   "id": "e1f14882",
   "metadata": {},
   "outputs": [
    {
     "ename": "SyntaxError",
     "evalue": "expected ':' (3591935063.py, line 19)",
     "output_type": "error",
     "traceback": [
      "\u001b[1;36m  Cell \u001b[1;32mIn[1], line 19\u001b[1;36m\u001b[0m\n\u001b[1;33m    except requests.exceptions.RequestException\u001b[0m\n\u001b[1;37m                                               ^\u001b[0m\n\u001b[1;31mSyntaxError\u001b[0m\u001b[1;31m:\u001b[0m expected ':'\n"
     ]
    }
   ],
   "source": [
    "import requests\n",
    "\n",
    "def webdir(url, depth, indent):\n",
    "    # Print the current URL with indentation\n",
    "    print(' ' * indent + url)\n",
    "\n",
    "    if depth == 0:\n",
    "        return\n",
    "\n",
    "    try:\n",
    "        response = requests.get(url)\n",
    "        \n",
    "        if response.status_code == 200:\n",
    "            # Extract all the links from the response HTML\n",
    "            links = extract_links(response.text)\n",
    "\n",
    "            for link in links:\n",
    "                webdir(link, depth - 1, indent + 1)\n",
    "    except requests.exceptions.RequestException\n",
    "    \n",
    "        return\n",
    "\n",
    "def extract_links(html):\n",
    "    # Extract the URLs from the HTML using a suitable method\n",
    "    links = []\n",
    "    start_index = 0\n",
    "\n",
    "    while True:\n",
    "\n",
    "        start_tag = html.find(\"<a\", start_index) # Find the next <a> tag\n",
    "        if start_tag == -1:\n",
    "            break\n",
    "\n",
    "        # Find the href attribute within the <a> tag\n",
    "        href_start = html.find(\"href\", start_tag)\n",
    "        if href_start == -1:\n",
    "            break\n",
    "\n",
    "        href_start = html.find(\"=\", href_start) + 1 \n",
    "        href_end = html.find('\"', href_start)\n",
    "\n",
    "        # Extract the URL and append it to the links list\n",
    "        link = html[href_start:href_end]\n",
    "        links.append(link)\n",
    "\n",
    "        # Update the start_index to continue searching for the next <a> tag\n",
    "        start_index = href_end\n",
    "\n",
    "    return links\n",
    "webdir('http://reed.cs.depaul.edu/lperkovic/csc242/test1.html', 2, 0)   \n",
    "\n"
   ]
  },
  {
   "cell_type": "code",
   "execution_count": 2,
   "id": "29ec42bf",
   "metadata": {},
   "outputs": [
    {
     "name": "stdout",
     "output_type": "stream",
     "text": [
      "http://reed.cs.depaul.edu/lperkovic/csc242/test1.html\n"
     ]
    }
   ],
   "source": [
    "import requests\n",
    "\n",
    "def webdir(url, depth, indent):\n",
    "    print(' ' * indent + url)\n",
    "\n",
    "    if depth == 0:\n",
    "        return\n",
    "\n",
    "    try:\n",
    "        response = requests.get(url)\n",
    "\n",
    "        if response.status_code == 200:\n",
    "            links = extract_links(response.text)\n",
    "\n",
    "            for link in links:\n",
    "                webdir(link, depth - 1, indent + 1)\n",
    "    except requests.exceptions.RequestException:\n",
    "        return\n",
    "\n",
    "def extract_links(html):\n",
    "    links = []\n",
    "    start_index = 0\n",
    "\n",
    "    while True:\n",
    "        start_tag = html.find(\"<a\", start_index) # Find the next <a> tag\n",
    "        if start_tag == -1:\n",
    "            break\n",
    "            \n",
    "        href_start = html.find(\"href\", start_tag) # Find the href attribute within the <a> tag\n",
    "        if href_start == -1:\n",
    "            break\n",
    "\n",
    "        href_start = html.find(\"=\", href_start) + 1\n",
    "        href_end = html.find('\"', href_start)\n",
    "\n",
    "        link = html[href_start:href_end]\n",
    "        links.append(link)\n",
    "\n",
    "        start_index = href_end\n",
    "\n",
    "    return links\n",
    "webdir('http://reed.cs.depaul.edu/lperkovic/csc242/test1.html', 2, 0)    \n"
   ]
  },
  {
   "cell_type": "markdown",
   "id": "ccc8b575",
   "metadata": {},
   "source": [
    "### Question 8 .\n",
    "***********************\n",
    "#### Write SQL queries on the below database table that return:\n",
    "#### a) All the temperature data.\n",
    "#### b) All the cities, but without repetition.\n",
    "#### c) All the records for India.\n",
    "#### d) All the Fall records.\n",
    "#### e) The city, country, and season for which the average rainfall is between 200 and 400 millimeters.\n",
    "#### f) The city and country for which the average Fall temperature is above 20 degrees, in increasing temperature order.\n",
    "#### g) The total annual rainfall for Cairo.\n",
    "#### h) The total rainfall for each season.\n",
    "### Answer :\n",
    "*****************************"
   ]
  },
  {
   "cell_type": "code",
   "execution_count": 2,
   "id": "0bb5128c",
   "metadata": {},
   "outputs": [],
   "source": [
    "#   code to create a table first \n",
    "import sqlite3\n",
    "\n",
    "# Connect to or create a new SQLite database file\n",
    "conn = sqlite3.connect('my_database.db')\n",
    "\n",
    "# Create a cursor object to execute SQL queries\n",
    "cur = conn.cursor()\n",
    "\n",
    "# Create a new table in the database\n",
    "cur.execute('''CREATE TABLE Climate_data (\n",
    "                    City TEXT,\n",
    "                    Country TEXT,\n",
    "                    Season TEXT,\n",
    "                    Temperature REAL,\n",
    "                    Rainfall REAL\n",
    "                )''')\n",
    "cur.execute(\"INSERT INTO Climate_data (City,Country,Season,Temperature,Rainfall) VALUES (?, ?,? ,?,?)\", ('Mumbai','India','Winter',24.8,5.9))\n",
    "cur.execute(\"INSERT INTO Climate_data (City,Country,Season,Temperature,Rainfall) VALUES (?, ?,? ,?,?)\", ('Mumbai','India','Spring',28.4,16.2))\n",
    "cur.execute(\"INSERT INTO Climate_data (City,Country,Season,Temperature,Rainfall) VALUES (?, ?,? ,?,?)\", ('Mumbai','India','Summer',27.9,1549.4))\n",
    "cur.execute(\"INSERT INTO Climate_data (City,Country,Season,Temperature,Rainfall) VALUES (?, ?,? ,?,?)\", ('Mumbai','India','Fall',27.6,346.0))\n",
    "cur.execute(\"INSERT INTO Climate_data (City,Country,Season,Temperature,Rainfall) VALUES (?, ?,? ,?,?)\", ('London','United Kingdom','Winter',4.2,207.7))\n",
    "cur.execute(\"INSERT INTO Climate_data (City,Country,Season,Temperature,Rainfall) VALUES (?, ?,? ,?,?)\", ('London','United Kingdom','Spring',8.3,169.6))\n",
    "cur.execute(\"INSERT INTO Climate_data (City,Country,Season,Temperature,Rainfall) VALUES (?, ?,? ,?,?)\", ('London','United Kingdom','Summer',15.7,157.0))\n",
    "cur.execute(\"INSERT INTO Climate_data (City,Country,Season,Temperature,Rainfall) VALUES (?, ?,? ,?,?)\", ('London','United Kingdom','Fall',10.4,218.5))\n",
    "cur.execute(\"INSERT INTO Climate_data (City,Country,Season,Temperature,Rainfall) VALUES (?, ?,? ,?,?)\", ('Cairo','Egypt','Winter',13.6,16.5))\n",
    "cur.execute(\"INSERT INTO Climate_data (City,Country,Season,Temperature,Rainfall) VALUES (?, ?,? ,?,?)\", ('Cairo','Egypt','Spring',20.7,6.5))\n",
    "cur.execute(\"INSERT INTO Climate_data (City,Country,Season,Temperature,Rainfall) VALUES (?, ?,? ,?,?)\", ('Cairo','Egypt','Summer',27.7,0.1))\n",
    "cur.execute(\"INSERT INTO Climate_data (City,Country,Season,Temperature,Rainfall) VALUES (?, ?,? ,?,?)\", ('Cairo','Egypt','Fall',22.2,4.5))\n",
    "\n",
    "# Commit the changes and close the connection\n",
    "conn.commit()\n",
    "conn.close()"
   ]
  },
  {
   "cell_type": "code",
   "execution_count": 3,
   "id": "c1ff057f",
   "metadata": {},
   "outputs": [
    {
     "name": "stdout",
     "output_type": "stream",
     "text": [
      "(a).Temperature Data:\n",
      "24.8\n",
      "28.4\n",
      "27.9\n",
      "27.6\n",
      "4.2\n",
      "8.3\n",
      "15.7\n",
      "10.4\n",
      "13.6\n",
      "20.7\n",
      "27.7\n",
      "22.2\n",
      "(b).Cities:\n",
      "Mumbai\n",
      "London\n",
      "Cairo\n",
      "(c).Records for India:\n",
      "('Mumbai', 'India', 'Winter', 24.8, 5.9)\n",
      "('Mumbai', 'India', 'Spring', 28.4, 16.2)\n",
      "('Mumbai', 'India', 'Summer', 27.9, 1549.4)\n",
      "('Mumbai', 'India', 'Fall', 27.6, 346.0)\n",
      "(d).Fall Records:\n",
      "('Mumbai', 'India', 'Fall', 27.6, 346.0)\n",
      "('London', 'United Kingdom', 'Fall', 10.4, 218.5)\n",
      "('Cairo', 'Egypt', 'Fall', 22.2, 4.5)\n",
      "(e).Records with average rainfall between 200 and 400 mm:\n",
      "('London', 'United Kingdom', 'Fall')\n",
      "('London', 'United Kingdom', 'Winter')\n",
      "('Mumbai', 'India', 'Fall')\n",
      "(f).Records with average Fall temperature above 20 degrees:\n",
      "('Cairo', 'Egypt')\n",
      "('Mumbai', 'India')\n",
      "(g).Total annual rainfall for Cairo: 27.6\n",
      "(h).Total rainfall for each season:\n",
      "Fall 569.0\n",
      "Spring 192.29999999999998\n",
      "Summer 1706.5\n",
      "Winter 230.1\n"
     ]
    }
   ],
   "source": [
    "import sqlite3\n",
    "\n",
    "# Connect to the SQLite database\n",
    "conn = sqlite3.connect('my_database.db')\n",
    "\n",
    "# Create a cursor object to execute SQL queries\n",
    "cursor = conn.cursor()\n",
    "\n",
    "cursor.execute(\"SELECT Temperature FROM climate_data\") # temperature data(part a)\n",
    "temperature_data = cursor.fetchall()\n",
    "print(\"(a).Temperature Data:\")\n",
    "for temperature in temperature_data:\n",
    "    print(temperature[0])\n",
    "\n",
    "cursor.execute(\"SELECT DISTINCT City FROM climate_data \") # Distinct cities in the table (b)\n",
    "cities = cursor.fetchall()\n",
    "print(\"(b).Cities:\")\n",
    "for city in cities:\n",
    "    print(city[0])\n",
    "\n",
    "cursor.execute(\"SELECT * FROM climate_data WHERE Country = 'India'\") # records of India only (c)\n",
    "india_records = cursor.fetchall()\n",
    "print(\"(c).Records for India:\")\n",
    "for record in india_records:\n",
    "    print(record)\n",
    "\n",
    "cursor.execute(\"SELECT * FROM climate_data WHERE Season = 'Fall'\") # Fall records (d)\n",
    "fall_records = cursor.fetchall()\n",
    "print(\"(d).Fall Records:\")\n",
    "for record in fall_records:\n",
    "    print(record)\n",
    "\n",
    "# The city, country, and season for which the average rainfall is between 200 and 400 millimeters.(e)\n",
    "cursor.execute(\"SELECT City, Country, Season FROM climate_data GROUP BY City, Country, Season HAVING AVG(Rainfall) BETWEEN 200 AND 400\")\n",
    "average_rainfall_records = cursor.fetchall()\n",
    "print(\"(e).Records with average rainfall between 200 and 400 mm:\")\n",
    "for record in average_rainfall_records:\n",
    "    print(record)\n",
    "\n",
    "# The city and country for which the average Fall temperature is above 20 degrees, in increasing temperature order.(f)\n",
    "cursor.execute(\"SELECT City, Country FROM climate_data WHERE Season = 'Fall' GROUP BY City, Country HAVING AVG(Temperature) > 20 ORDER BY AVG(Temperature) ASC\")\n",
    "average_fall_temp_records = cursor.fetchall()\n",
    "print(\"(f).Records with average Fall temperature above 20 degrees:\")\n",
    "for record in average_fall_temp_records:\n",
    "    print(record)\n",
    "\n",
    "# The total annual rainfall for Cairo.(g)\n",
    "cursor.execute(\"SELECT SUM(Rainfall) AS Total_Rainfall FROM climate_data WHERE City = 'Cairo'\")\n",
    "total_rainfall_cairo = cursor.fetchone()\n",
    "print(\"(g).Total annual rainfall for Cairo:\", total_rainfall_cairo[0])\n",
    "\n",
    "# The total rainfall for each season.(h)\n",
    "cursor.execute(\"SELECT Season, SUM(Rainfall) AS Total_Rainfall FROM climate_data GROUP BY Season\")\n",
    "total_rainfall_seasons = cursor.fetchall()\n",
    "print(\"(h).Total rainfall for each season:\")\n",
    "for season in total_rainfall_seasons:\n",
    "    print(season[0], season[1])\n",
    "\n",
    "cursor.close()\n",
    "conn.close()"
   ]
  },
  {
   "cell_type": "markdown",
   "id": "c4172492",
   "metadata": {},
   "source": [
    "### Question 9 .\n",
    "***************************\n",
    "#### Suppose list words is defined as follows:\n",
    "#### >>> words = ['The', 'quick', 'brown', 'fox', 'jumps', 'over', 'the', 'lazy', 'dog']\n",
    "#### Write list comprehension expressions that use list words and generate the following lists:\n",
    "#### a) ['THE', 'QUICK', 'BROWN', 'FOX', 'JUMPS', 'OVER', 'THE', 'LAZY', 'DOG']\n",
    "#### b) ['the', 'quick', 'brown', 'fox', 'jumps', 'over', 'the', 'lazy', 'dog']\n",
    "#### c) [3, 5, 5, 3, 5, 4, 3, 4, 3] (the list of lengths of words in list words).\n",
    "#### d) [['THE', 'the', 3], ['QUICK', 'quick', 5], ['BROWN', 'brown', 5], ['FOX', 'fox', 3], ['JUMPS', 'jumps', 5], ['OVER', 'over', 4], ['THE', 'the', 3], ['LAZY', 'lazy', 4], ['DOG', 'dog', 3]] (the list containing a list for every word of list words, where each list contains the word in uppercase and lowercase and the length of the word.)\n",
    "#### e) ['The', 'quick', 'brown', 'fox', 'jumps', 'over', 'the', 'lazy', 'dog'] (the list of words in list words containing 4 or more characters.)\n",
    "### Answer :\n",
    "***********************"
   ]
  },
  {
   "cell_type": "code",
   "execution_count": 4,
   "id": "d31a2820",
   "metadata": {},
   "outputs": [
    {
     "name": "stdout",
     "output_type": "stream",
     "text": [
      "a. ['THE', 'QUICK', 'BROWN', 'FOX', 'JUMPS', 'OVER', 'THE', 'LAZY', 'DOG']\n",
      "b. ['the', 'quick', 'brown', 'fox', 'jumps', 'over', 'the', 'lazy', 'dog']\n",
      "c. [3, 5, 5, 3, 5, 4, 3, 4, 3]\n",
      "d. [['THE', 'the', 3], ['QUICK', 'quick', 5], ['BROWN', 'brown', 5], ['FOX', 'fox', 3], ['JUMPS', 'jumps', 5], ['OVER', 'over', 4], ['THE', 'the', 3], ['LAZY', 'lazy', 4], ['DOG', 'dog', 3]]\n",
      "e. ['quick', 'brown', 'jumps', 'over', 'lazy']\n"
     ]
    }
   ],
   "source": [
    "words = ['The', 'quick', 'brown', 'fox', 'jumps', 'over',\n",
    "'the', 'lazy', 'dog']\n",
    "upper_words = [k.upper() for k in words] # changing the every word to upper case, given in the words list\n",
    "print(\"a.\",upper_words)\n",
    "lower_words = [k.lower() for k in words]  # changing the every word in lower case in the words list\n",
    "print(\"b.\",lower_words)\n",
    "word_lengths = [len(k) for k in words] # gives the length of every word\n",
    "print(\"c.\",word_lengths)\n",
    "word_info = [[k.upper(), k.lower(), len(k)] for k in words] # repersent the upper cas , lower case and length of each word.\n",
    "print(\"d.\",word_info)\n",
    "long_words = [k for k in words if len(k) >= 4] # only repersenting those words whose length are greater than 4\n",
    "print(\"e.\",long_words)"
   ]
  }
 ],
 "metadata": {
  "kernelspec": {
   "display_name": "Python 3 (ipykernel)",
   "language": "python",
   "name": "python3"
  },
  "language_info": {
   "codemirror_mode": {
    "name": "ipython",
    "version": 3
   },
   "file_extension": ".py",
   "mimetype": "text/x-python",
   "name": "python",
   "nbconvert_exporter": "python",
   "pygments_lexer": "ipython3",
   "version": "3.10.9"
  }
 },
 "nbformat": 4,
 "nbformat_minor": 5
}
